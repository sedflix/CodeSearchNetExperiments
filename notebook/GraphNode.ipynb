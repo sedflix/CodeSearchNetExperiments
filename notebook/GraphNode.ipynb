{
 "cells": [
  {
   "cell_type": "code",
   "execution_count": 1,
   "metadata": {},
   "outputs": [],
   "source": [
    "import sys\n",
    "sys.path.append(\"../codesearchnet\")\n",
    "\n",
    "import os.path as osp\n",
    "\n",
    "import argparse\n",
    "import numpy as np\n",
    "\n",
    "import torch\n",
    "import torch.nn.functional as F\n",
    "from torch_geometric.datasets import Planetoid\n",
    "import torch_geometric.transforms as T\n",
    "from torch_geometric.nn import GCNConv, GAE, VGAE\n",
    "from torch_geometric.utils import train_test_split_edges\n",
    "\n",
    "import swifter\n",
    "\n",
    "from code_parser import *\n",
    "from data_reader import get_data_df"
   ]
  },
  {
   "cell_type": "code",
   "execution_count": 2,
   "metadata": {},
   "outputs": [],
   "source": []
  },
  {
   "cell_type": "markdown",
   "metadata": {},
   "source": [
    "## Read Data"
   ]
  },
  {
   "cell_type": "code",
   "execution_count": 3,
   "metadata": {},
   "outputs": [
    {
     "name": "stdout",
     "output_type": "stream",
     "text": [
      "412178\n"
     ]
    }
   ],
   "source": [
    "df = get_data_df(\"../resources/data/\", [\"python\"] , [\"train\"])\n",
    "print(len(df))"
   ]
  },
  {
   "cell_type": "code",
   "execution_count": 4,
   "metadata": {},
   "outputs": [],
   "source": [
    "def _code_parse(row):\n",
    "    parser_ = get_parser(lang=row['language'], so_path=\"../resources/csnet_parse_build.so\")\n",
    "    g_ = parse_program(row['code'], parser=parser_)\n",
    "    return g_"
   ]
  },
  {
   "cell_type": "code",
   "execution_count": 7,
   "metadata": {
    "collapsed": true
   },
   "outputs": [
    {
     "data": {
      "application/vnd.jupyter.widget-view+json": {
       "model_id": "ed1621653b3b411d897dd88f3b44471e",
       "version_major": 2,
       "version_minor": 0
      },
      "text/plain": [
       "HBox(children=(IntProgress(value=0, description='Pandas Apply', max=412178, style=ProgressStyle(description_wi…"
      ]
     },
     "metadata": {},
     "output_type": "display_data"
    },
    {
     "name": "stderr",
     "output_type": "stream",
     "text": [
      "IOPub message rate exceeded.\n",
      "The notebook server will temporarily stop sending output\n",
      "to the client in order to avoid crashing it.\n",
      "To change this limit, set the config variable\n",
      "`--NotebookApp.iopub_msg_rate_limit`.\n",
      "\n",
      "Current values:\n",
      "NotebookApp.iopub_msg_rate_limit=1000.0 (msgs/sec)\n",
      "NotebookApp.rate_limit_window=3.0 (secs)\n",
      "\n",
      "IOPub message rate exceeded.\n",
      "The notebook server will temporarily stop sending output\n",
      "to the client in order to avoid crashing it.\n",
      "To change this limit, set the config variable\n",
      "`--NotebookApp.iopub_msg_rate_limit`.\n",
      "\n",
      "Current values:\n",
      "NotebookApp.iopub_msg_rate_limit=1000.0 (msgs/sec)\n",
      "NotebookApp.rate_limit_window=3.0 (secs)\n",
      "\n",
      "IOPub message rate exceeded.\n",
      "The notebook server will temporarily stop sending output\n",
      "to the client in order to avoid crashing it.\n",
      "To change this limit, set the config variable\n",
      "`--NotebookApp.iopub_msg_rate_limit`.\n",
      "\n",
      "Current values:\n",
      "NotebookApp.iopub_msg_rate_limit=1000.0 (msgs/sec)\n",
      "NotebookApp.rate_limit_window=3.0 (secs)\n",
      "\n",
      "IOPub message rate exceeded.\n",
      "The notebook server will temporarily stop sending output\n",
      "to the client in order to avoid crashing it.\n",
      "To change this limit, set the config variable\n",
      "`--NotebookApp.iopub_msg_rate_limit`.\n",
      "\n",
      "Current values:\n",
      "NotebookApp.iopub_msg_rate_limit=1000.0 (msgs/sec)\n",
      "NotebookApp.rate_limit_window=3.0 (secs)\n",
      "\n"
     ]
    }
   ],
   "source": [
    "df.reset_index(drop=True)\n",
    "g_s = df.swifter.apply(_code_parse, axis=1)\n",
    "g_s = list(g_s)"
   ]
  },
  {
   "cell_type": "code",
   "execution_count": 26,
   "metadata": {},
   "outputs": [],
   "source": []
  },
  {
   "cell_type": "code",
   "execution_count": null,
   "metadata": {},
   "outputs": [],
   "source": []
  },
  {
   "cell_type": "code",
   "execution_count": 41,
   "metadata": {},
   "outputs": [],
   "source": [
    "# big_g = nx.disjoint_union_all(list(g_s))"
   ]
  },
  {
   "cell_type": "code",
   "execution_count": 10,
   "metadata": {},
   "outputs": [],
   "source": [
    "import fasttext as ft"
   ]
  },
  {
   "cell_type": "code",
   "execution_count": 34,
   "metadata": {},
   "outputs": [],
   "source": [
    "model = ft.train_unsupervised(\n",
    "    \"../resources/python_processed/code_corpus.txt\",\n",
    "    lr = 0.005,\n",
    "    epoch = 10,\n",
    "    ws = 10,\n",
    "    minCount = 10,\n",
    "    dim = 256,\n",
    "    thread = 40,\n",
    ")"
   ]
  },
  {
   "cell_type": "code",
   "execution_count": 35,
   "metadata": {},
   "outputs": [],
   "source": [
    "model.save_model(\"../resources/python_processed/code_ft.bin\")"
   ]
  },
  {
   "cell_type": "code",
   "execution_count": 17,
   "metadata": {},
   "outputs": [
    {
     "name": "stderr",
     "output_type": "stream",
     "text": [
      "Warning : `load_model` does not return WordVectorModel or SupervisedModel any more, but a `FastText` object which is very similar.\n"
     ]
    }
   ],
   "source": [
    "embed = ft.load_model(\"../resources/python_processed/code_ft.bin\")"
   ]
  },
  {
   "cell_type": "code",
   "execution_count": 36,
   "metadata": {},
   "outputs": [
    {
     "name": "stdout",
     "output_type": "stream",
     "text": [
      "[(0.7811248898506165, '(self'), (0.7505491971969604, '.'), (0.7483435273170471, 'attribute'), (0.7307307124137878, 'oself'), (0.7233479022979736, 'myself'), (0.6956260204315186, '_self'), (0.6935381293296814, 'zelf'), (0.6858091950416565, 'nself'), (0.6429136395454407, 'selfDim'), (0.6330493092536926, '__self')]\n"
     ]
    }
   ],
   "source": [
    "print(model.get_nearest_neighbors('self'))"
   ]
  },
  {
   "cell_type": "code",
   "execution_count": 37,
   "metadata": {},
   "outputs": [
    {
     "name": "stdout",
     "output_type": "stream",
     "text": [
      "[(0.8480510711669922, 'zopen'), (0.8409914970397949, 'openpnm'), (0.8142781257629395, 'nopen'), (0.8124527931213379, 'fdopen'), (0.8104597926139832, 'open_zip'), (0.7974083423614502, 'open_fs'), (0.789747416973114, 'open_'), (0.7818751335144043, 'openpty'), (0.7743011116981506, 'openvr'), (0.770271897315979, 'lopen')]\n"
     ]
    }
   ],
   "source": [
    "print(model.get_nearest_neighbors('open'))"
   ]
  },
  {
   "cell_type": "markdown",
   "metadata": {},
   "source": [
    "## Data for torch_geometric"
   ]
  },
  {
   "cell_type": "code",
   "execution_count": 29,
   "metadata": {},
   "outputs": [],
   "source": [
    "from torch_geometric.data import Data,Dataset, DataLoader\n",
    "from torch_geometric.utils import from_networkx\n",
    "from torch_geometric.utils import train_test_split_edges\n",
    "\n",
    "from livelossplot import PlotLosses"
   ]
  },
  {
   "cell_type": "code",
   "execution_count": 30,
   "metadata": {},
   "outputs": [],
   "source": [
    "def get_data_from_graph(g: nx.DiGraph, y=None) -> Data:\n",
    "    graph_spicy = nx.to_scipy_sparse_matrix(g, format='coo')\n",
    "    edge_index = torch.tensor([graph_spicy.row, graph_spicy.col], dtype=torch.long)\n",
    "    \n",
    "    x = torch.tensor([embed[x.name] for x in g.nodes()], dtype=torch.float)\n",
    "\n",
    "    data = Data(x=x, edge_index=edge_index)\n",
    "\n",
    "    return data"
   ]
  },
  {
   "cell_type": "code",
   "execution_count": 43,
   "metadata": {},
   "outputs": [],
   "source": [
    "class CodeDataset(Dataset):\n",
    "    def __init__(self, g_s):\n",
    "        self.g_s = g_s\n",
    "        self.data = {}\n",
    "        super(CodeDataset, self).__init__()\n",
    "\n",
    "    def len(self):\n",
    "        return len(self.g_s)\n",
    "\n",
    "    def get(self, idx):\n",
    "        if not idx in self.data:\n",
    "            data = get_data_from_graph(g_s[idx])\n",
    "            data.train_mask = data.val_mask = data.test_mask = data.y = None\n",
    "            data = train_test_split_edges(data, val_ratio=0.0, test_ratio=0.2)\n",
    "            self.data[idx] = data\n",
    "        return self.data[idx]"
   ]
  },
  {
   "cell_type": "code",
   "execution_count": 44,
   "metadata": {},
   "outputs": [],
   "source": [
    "dataset = CodeDataset(g_s)"
   ]
  },
  {
   "cell_type": "code",
   "execution_count": 45,
   "metadata": {},
   "outputs": [
    {
     "data": {
      "text/plain": [
       "Data(test_neg_edge_index=[2, 8], test_pos_edge_index=[2, 8], train_neg_adj_mask=[44, 44], train_pos_edge_index=[2, 70], val_neg_edge_index=[2, 0], val_pos_edge_index=[2, 0], x=[44, 256])"
      ]
     },
     "execution_count": 45,
     "metadata": {},
     "output_type": "execute_result"
    }
   ],
   "source": [
    "dataset[0]"
   ]
  },
  {
   "cell_type": "code",
   "execution_count": 48,
   "metadata": {},
   "outputs": [],
   "source": [
    "from torch_geometric.nn import GCNConv, GAE, VGAE\n",
    "import torch.nn.functional as F\n",
    "class Encoder(torch.nn.Module):\n",
    "    def __init__(self, in_channels, out_channels):\n",
    "        super(Encoder, self).__init__()\n",
    "        self.conv1 = GCNConv(in_channels, 4 * out_channels)\n",
    "        self.conv2 = GCNConv(4 * out_channels, 2 * out_channels)\n",
    "        if True:\n",
    "            self.conv_mu = GCNConv(2 * out_channels, out_channels)\n",
    "            self.conv_logvar = GCNConv(2 * out_channels, out_channels)\n",
    "\n",
    "    def forward(self, x, edge_index):\n",
    "        x = F.relu(self.conv1(x, edge_index))\n",
    "        x = F.relu(self.conv2(x, edge_index))\n",
    "        if True:\n",
    "            return self.conv_mu(x, edge_index), self.conv_logvar(x, edge_index)\n"
   ]
  },
  {
   "cell_type": "code",
   "execution_count": 49,
   "metadata": {},
   "outputs": [],
   "source": [
    "model = VGAE(Encoder(dataset.num_features, 64))"
   ]
  },
  {
   "cell_type": "code",
   "execution_count": 50,
   "metadata": {},
   "outputs": [],
   "source": [
    "optimizer = torch.optim.Adam(model.parameters(), lr=0.0001)"
   ]
  },
  {
   "cell_type": "code",
   "execution_count": 51,
   "metadata": {},
   "outputs": [],
   "source": [
    "def train(data):\n",
    "    model.train()\n",
    "    optimizer.zero_grad()\n",
    "    z = model.encode(data.x, data.train_pos_edge_index)\n",
    "    loss = model.recon_loss(z, data.train_pos_edge_index)\n",
    "    loss = loss + (1 / data.num_nodes) * model.kl_loss()\n",
    "    loss.backward()\n",
    "    optimizer.step()\n",
    "    return loss.item()\n",
    "\n",
    "def test(data):\n",
    "    model.eval()\n",
    "    with torch.no_grad():\n",
    "        z = model.encode(data.x,  data.train_pos_edge_index)\n",
    "    return model.test(z, data.test_pos_edge_index, data.test_neg_edge_index)"
   ]
  },
  {
   "cell_type": "code",
   "execution_count": 2,
   "metadata": {},
   "outputs": [],
   "source": []
  },
  {
   "cell_type": "code",
   "execution_count": null,
   "metadata": {},
   "outputs": [
    {
     "data": {
      "image/png": "[encoded data removed]",
      "text/plain": [
       "<Figure size 864x864 with 3 Axes>"
      ]
     },
     "metadata": {
      "needs_background": "light"
     },
     "output_type": "display_data"
    },
    {
     "name": "stdout",
     "output_type": "stream",
     "text": [
      "ac\n",
      "\tac               \t (min:    0.000, max:    1.000, cur:    0.634)\n",
      "ap\n",
      "\tap               \t (min:    0.365, max:    1.000, cur:    0.659)\n",
      "Loss\n",
      "\tloss             \t (min:    0.960, max:   11.338, cur:    1.127)\n",
      "Epoch: 000, Iteration: 25278, Loss: 1.1272, AUC: 0.6336, AP: 0.6589\r"
     ]
    }
   ],
   "source": [
    "liveloss = PlotLosses()\n",
    "logs = {}\n",
    "\n",
    "losses = []\n",
    "test_acs, test_aps = [], []\n",
    "\n",
    "for epoch in range(10):\n",
    "    \n",
    "    for ii, data in enumerate(dataset):\n",
    "        loss = train(data)\n",
    "        losses.append(loss)\n",
    "        \n",
    "        logs['loss'] = np.mean(losses[-50:])\n",
    "\n",
    "\n",
    "        test_ac, test_ap = test(data)\n",
    "\n",
    "        test_acs.append(test_ac)\n",
    "        test_aps.append(test_ap)\n",
    "        \n",
    "        logs['ac'] = np.mean(test_acs[-50:]) \n",
    "        logs['ap'] = np.mean(test_aps[-50:]) \n",
    "        \n",
    "        liveloss.update(logs)\n",
    "        liveloss.send()\n",
    "\n",
    "        print('Epoch: {:03d}, Iteration: {:03d}, Loss: {:.4f}, AUC: {:.4f}, AP: {:.4f}'.format(epoch, ii, np.mean(losses[-50:]), np.mean(test_acs[-50:]), np.mean(test_aps[-50:])), end=\"\\r\")"
   ]
  },
  {
   "cell_type": "code",
   "execution_count": 41,
   "metadata": {},
   "outputs": [],
   "source": []
  },
  {
   "cell_type": "code",
   "execution_count": null,
   "metadata": {},
   "outputs": [],
   "source": []
  }
 ],
 "metadata": {
  "kernelspec": {
   "display_name": "Python 3",
   "language": "python",
   "name": "python3"
  },
  "language_info": {
   "codemirror_mode": {
    "name": "ipython",
    "version": 3
   },
   "file_extension": ".py",
   "mimetype": "text/x-python",
   "name": "python",
   "nbconvert_exporter": "python",
   "pygments_lexer": "ipython3",
   "version": "3.6.8"
  }
 },
 "nbformat": 4,
 "nbformat_minor": 4
}
